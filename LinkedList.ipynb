{
 "cells": [
  {
   "cell_type": "markdown",
   "id": "021154d3",
   "metadata": {},
   "source": [
    "# Single Linked List"
   ]
  },
  {
   "cell_type": "code",
   "execution_count": 1,
   "id": "79b53da0",
   "metadata": {
    "scrolled": true
   },
   "outputs": [
    {
     "name": "stdout",
     "output_type": "stream",
     "text": [
      "No such data found in current list, inserting at the end\n",
      "\n",
      "\n",
      "head ->  1 ->  Sample ->  Last ->  Sample3 ->  Null \n",
      "\n",
      "head ->  Sample ->  Last ->  Sample3 ->  Null "
     ]
    }
   ],
   "source": [
    "class Node:\n",
    "    \n",
    "    def __init__(self,data):\n",
    "        self.data = data\n",
    "        self.next = None\n",
    "\n",
    "class LinkedList:\n",
    "    def __init__(self):\n",
    "        self.head = None\n",
    "      \n",
    "    # print the elements in the list\n",
    "    def print_list(self):\n",
    "        temp = self.head\n",
    "        print(\"\\n\")\n",
    "        while temp != None:\n",
    "            print(\"{} -> \".format(temp.data), end=\" \")\n",
    "            temp = temp.next\n",
    "        print(\"Null\", end=\" \")\n",
    "    \n",
    "    # insert a node at beginning of the List\n",
    "    def insert_at_head(self, new_data):\n",
    "        new_node = Node(new_data)\n",
    "        new_node.next = self.head\n",
    "        self.head = new_node\n",
    "      \n",
    "    # Add a new node at the end of list\n",
    "    def append(self,new_data):\n",
    "        new_node = Node(new_data)\n",
    "        if self.head == None: \n",
    "            self.head = new_node\n",
    "        temp = self.head\n",
    "        while temp.next!= None:\n",
    "            temp = temp.next\n",
    "        temp.next = new_node\n",
    "      \n",
    "    # insert after a particular node\n",
    "    def insert_after(self, node, new_node_data):\n",
    "        if self.head == None:\n",
    "            print(\"Empty List, so inserting at beginning of list\")\n",
    "            self.head = Node(new_node_data)\n",
    "        temp = self.head\n",
    "        while temp and temp.data != node:\n",
    "            temp = temp.next\n",
    "        if temp == None:\n",
    "            print(\"No such data found in current list, inserting at the end\")\n",
    "            self.append(new_node_data)\n",
    "        else:\n",
    "            chain = temp.next\n",
    "            new_node = Node(new_node_data)\n",
    "            temp.next = new_node\n",
    "            new_node.next = chain\n",
    "            \n",
    "    # delete a node\n",
    "    def delete_node(self,data):\n",
    "        # if the node is head node\n",
    "        if self.head == None:\n",
    "            print(\"Nothing can be deleted in an empty list\")\n",
    "        else:\n",
    "            if self.head.data == data:\n",
    "                self.head = self.head.next\n",
    "            else:\n",
    "                current = self.head\n",
    "                next_node = self.head.next\n",
    "                while next_node.data != data:\n",
    "                    current = next_node\n",
    "                    next_node = next_node.next\n",
    "                rest_of_chain = next_node.next\n",
    "                current.next = rest_of_chain\n",
    "            \n",
    "                \n",
    "\n",
    "    \n",
    "                \n",
    "                \n",
    "                \n",
    "linked_list1 = LinkedList()\n",
    "linked_list1.head = Node(1)\n",
    "linked_list1.head.next = Node('Sample')\n",
    "linked_list1.insert_at_head(\"head\")\n",
    "linked_list1.append(\"Last\")\n",
    "linked_list1.insert_after(\"\",\"Sample3\")\n",
    "linked_list1.print_list()\n",
    "linked_list1.delete_node(1)\n",
    "linked_list1.print_list()"
   ]
  },
  {
   "cell_type": "code",
   "execution_count": null,
   "id": "e5f594ec",
   "metadata": {},
   "outputs": [],
   "source": []
  }
 ],
 "metadata": {
  "kernelspec": {
   "display_name": "Python 3 (ipykernel)",
   "language": "python",
   "name": "python3"
  },
  "language_info": {
   "codemirror_mode": {
    "name": "ipython",
    "version": 3
   },
   "file_extension": ".py",
   "mimetype": "text/x-python",
   "name": "python",
   "nbconvert_exporter": "python",
   "pygments_lexer": "ipython3",
   "version": "3.10.2"
  },
  "vscode": {
   "interpreter": {
    "hash": "ff256b715c1d45b071877fe27108794dd70732658215a800fa4a5e3b12e29bd2"
   }
  }
 },
 "nbformat": 4,
 "nbformat_minor": 5
}
