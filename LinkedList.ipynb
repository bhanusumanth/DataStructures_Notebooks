{
 "cells": [
  {
   "cell_type": "code",
   "execution_count": 2,
   "id": "79b53da0",
   "metadata": {},
   "outputs": [
    {
     "name": "stdout",
     "output_type": "stream",
     "text": [
      "1 -> \n",
      "Sample -> \n",
      "Null\n"
     ]
    }
   ],
   "source": [
    "class Node:\n",
    "    \n",
    "    def __init__(self,data):\n",
    "        self.data = data\n",
    "        self.next = None\n",
    "\n",
    "class LinkedList:\n",
    "    def __init__(self):\n",
    "        self.head = None\n",
    "        \n",
    "    def print_list(self):\n",
    "        temp = self.head\n",
    "        while temp != None:\n",
    "            print(\"{} -> \".format(temp.data))\n",
    "            temp = temp.next\n",
    "        print(\"Null\")\n",
    "\n",
    "linked_list1 = LinkedList()\n",
    "linked_list1.head = Node(1)\n",
    "linked_list1.head.next = Node('Sample')\n",
    "linked_list1.print_list()"
   ]
  },
  {
   "cell_type": "code",
   "execution_count": null,
   "id": "e5f594ec",
   "metadata": {},
   "outputs": [],
   "source": []
  }
 ],
 "metadata": {
  "kernelspec": {
   "display_name": "Python 3 (ipykernel)",
   "language": "python",
   "name": "python3"
  },
  "language_info": {
   "codemirror_mode": {
    "name": "ipython",
    "version": 3
   },
   "file_extension": ".py",
   "mimetype": "text/x-python",
   "name": "python",
   "nbconvert_exporter": "python",
   "pygments_lexer": "ipython3",
   "version": "3.10.2"
  },
  "vscode": {
   "interpreter": {
    "hash": "ff256b715c1d45b071877fe27108794dd70732658215a800fa4a5e3b12e29bd2"
   }
  }
 },
 "nbformat": 4,
 "nbformat_minor": 5
}
